{
 "cells": [
  {
   "cell_type": "code",
   "execution_count": 1,
   "id": "436dc23a-ca17-4e1e-acd2-2ad32759d622",
   "metadata": {},
   "outputs": [],
   "source": [
    "edge_list = [[0, 1], [1, 3], [1,6], [3, 2],  [3, 7], [4, 2], [6, 3], [7, 4], [7, 5]]\n",
    "vert_num = 8\n",
    "def const(edge_list, vert_num):\n",
    "    adj_list =[[] for _ in range(vert_num)]\n",
    "    for edge in edge_list:\n",
    "        src = edge[0]\n",
    "        dest = edge[1]\n",
    "        adj_list[src].append(dest)\n",
    "    return adj_list\n",
    "        "
   ]
  },
  {
   "cell_type": "code",
   "execution_count": 2,
   "id": "f97420a2-e859-49b2-beda-7f756837932b",
   "metadata": {},
   "outputs": [],
   "source": [
    "BIG_NUM = 10**6\n",
    "def bsf(adj_list, src):\n",
    "    vert_num = len(adj_list)\n",
    "    dist = [BIG_NUM for i in range(vert_num)]\n",
    "\n",
    "    dist[src] = 0\n",
    "    queue = []\n",
    "    queue.append(src)\n",
    "    while queue:\n",
    "        u = queue.pop(0)\n",
    "        for v in adj_list[u]:\n",
    "            if dist[v] == BIG_NUM:\n",
    "                dist[v] = dist[u]+1\n",
    "                queue.append(v)\n",
    "    return dist\n"
   ]
  },
  {
   "cell_type": "code",
   "execution_count": 3,
   "id": "b19f19b1-9944-4089-bf86-1eb0ca9b00e6",
   "metadata": {},
   "outputs": [
    {
     "name": "stdout",
     "output_type": "stream",
     "text": [
      "[[1000000, 5, 1000000, 1000000, 1000000, 1000000, 1000000, 1000000], [1000000, 1000000, 1000000, 12, 1000000, 1000000, 3, 1000000], [1000000, 1000000, 1000000, 1000000, 1000000, 1000000, 1000000, 1000000], [1000000, 1000000, 7, 1000000, 1000000, 1000000, 1000000, 1], [1000000, 1000000, 2, 1000000, 1000000, 1000000, 1000000, 1000000], [1000000, 1000000, 1000000, 1000000, 1000000, 1000000, 1000000, 1000000], [1000000, 1000000, 1000000, 4, 1000000, 1000000, 1000000, 1000000], [1000000, 1000000, 1000000, 1000000, 10, 3, 1000000, 1000000]]\n"
     ]
    }
   ],
   "source": [
    "edge_list = [[0, 1], [1, 3], [1, 6], [3, 2],  [3, 7], [4, 2], [6, 3], [7, 4], [7, 5]]\n",
    "weight_list = [5, 12, 3, 7, 1, 2, 4, 10, 3]\n",
    "vert_num = 8\n",
    "def const1(edge_list, weight_list, vert_num):\n",
    "    adj_matrix = [[BIG_NUM for _ in range(vert_num)] for _ in range(vert_num)]\n",
    "    for edge, weight in zip(edge_list, weight_list):\n",
    "        src = edge[0]\n",
    "        dest = edge[1]\n",
    "        adj_matrix[src][dest] = weight\n",
    "    return adj_matrix\n",
    "print(const1(edge_list, weight_list, vert_num))"
   ]
  },
  {
   "cell_type": "code",
   "execution_count": 4,
   "id": "9fbbfd6e-0304-4393-a24a-cd102343c15d",
   "metadata": {},
   "outputs": [
    {
     "name": "stdout",
     "output_type": "stream",
     "text": [
      "[0, 1, 3, 2, 4, 4, 2, 3]\n"
     ]
    }
   ],
   "source": [
    "adj_list = const(edge_list, vert_num)\n",
    "print(bsf(adj_list, 0))\n"
   ]
  },
  {
   "cell_type": "code",
   "execution_count": 5,
   "id": "c54d0948-6118-4194-a23f-3d0d160ba6f2",
   "metadata": {},
   "outputs": [
    {
     "name": "stdout",
     "output_type": "stream",
     "text": [
      "[0, 5, 1000000, 1000000, 1000000, 1000000, 1000000, 1000000]\n",
      "[0, 5, 1000000, 17, 1000000, 1000000, 8, 1000000]\n",
      "[0, 5, 1000000, 12, 1000000, 1000000, 8, 1000000]\n",
      "[0, 5, 19, 12, 1000000, 1000000, 8, 13]\n",
      "[0, 5, 19, 12, 23, 16, 8, 13]\n",
      "[0, 5, 19, 12, 23, 16, 8, 13]\n",
      "[0, 5, 19, 12, 23, 16, 8, 13]\n",
      "[0, 5, 19, 12, 23, 16, 8, 13]\n",
      "[0, 5, 19, 12, 23, 16, 8, 13]\n"
     ]
    }
   ],
   "source": [
    "def bsf_zero_k(K, adj_list, adj_matrix, src):\n",
    "    vert_num = len(adj_list)\n",
    "    dist = [BIG_NUM for i in range(vert_num)]\n",
    "    used = [False for _ in range(vert_num)]\n",
    "    \n",
    "\n",
    "    dist[src] = 0\n",
    "    queues = [[] for _ in range(vert_num * K)]\n",
    "    queues[dist[src]].append(src)\n",
    "    for k in range(K * vert_num):\n",
    "        while queues[k]:\n",
    "            u = queues[k].pop(0)\n",
    "            if used[u]:\n",
    "                continue\n",
    "            else:\n",
    "                used[u] = True\n",
    "            for v in adj_list[u]:\n",
    "                if dist[v] > dist[u] + adj_matrix[u][v]:\n",
    "                    dist[v] = dist[u]+  adj_matrix[u][v]\n",
    "                    queues[dist[v]].append(v)\n",
    "            print(dist)\n",
    "    return dist\n",
    "adj_list = const(edge_list, vert_num)  \n",
    "adj_matrix = const1(edge_list, weight_list, vert_num)\n",
    "print(bsf_zero_k(max(weight_list), adj_list, adj_matrix, 0))"
   ]
  },
  {
   "cell_type": "code",
   "execution_count": 8,
   "id": "cc4ee8d7-1ec0-4de2-8bb6-139ad8ffe379",
   "metadata": {},
   "outputs": [
    {
     "name": "stdout",
     "output_type": "stream",
     "text": [
      "[[1, 3], [4, 2], [5, 1]]\n"
     ]
    }
   ],
   "source": [
    "#Куча\n",
    "def heapify(array, i):\n",
    "    parent = i\n",
    "    left = 2 * i + 2\n",
    "    right =2 * i + 1\n",
    "    if left < len(array) and array[left][0] < array[parent][0]:\n",
    "        parent = left\n",
    "    if right < len(array) and array[right][0] < array[parent][0]:\n",
    "        parent = right\n",
    "    if parent != i:\n",
    "        array[i], array[parent] = array[parent], array[i]\n",
    "        heapify(array, parent)\n",
    "def Sort(array, num):\n",
    "    array_0 = array[:]\n",
    "    for i in range(len(array), -1, -1):\n",
    "        heapify(array, i)\n",
    "    return array"
   ]
  },
  {
   "cell_type": "code",
   "execution_count": 12,
   "id": "0a7d8414-d362-4cad-9bb9-e961dc54674a",
   "metadata": {
    "scrolled": true
   },
   "outputs": [
    {
     "name": "stdout",
     "output_type": "stream",
     "text": [
      "[0, 5, 19, 12, 23, 16, 8, 13]\n"
     ]
    }
   ],
   "source": [
    "#Алгоритм с кучей\n",
    "def dijkstra(adj_list, adj_matrix, src):\n",
    "    heap = [[0, src]]\n",
    "    vert_num = len(adj_list)\n",
    "    dist = [BIG_NUM for _ in range(vert_num)]\n",
    "    dist[src] = 0\n",
    "    while heap:\n",
    "        heap = Sort(heap, 0)\n",
    "        u = heap[0][1]\n",
    "        heap.pop(0)\n",
    "        for v in adj_list[u]:\n",
    "            if dist[v] > dist[u] + adj_matrix[u][v]:\n",
    "                dist[v] = dist[u]+  adj_matrix[u][v]\n",
    "                heap.append([dist[v], v])\n",
    "    return dist\n",
    "adj_list = const(edge_list, vert_num)  \n",
    "adj_matrix = const1(edge_list, weight_list, vert_num)\n",
    "print(dijkstra(adj_list, adj_matrix, 0))"
   ]
  }
 ],
 "metadata": {
  "kernelspec": {
   "display_name": "Python 3 (ipykernel)",
   "language": "python",
   "name": "python3"
  },
  "language_info": {
   "codemirror_mode": {
    "name": "ipython",
    "version": 3
   },
   "file_extension": ".py",
   "mimetype": "text/x-python",
   "name": "python",
   "nbconvert_exporter": "python",
   "pygments_lexer": "ipython3",
   "version": "3.10.12"
  }
 },
 "nbformat": 4,
 "nbformat_minor": 5
}
