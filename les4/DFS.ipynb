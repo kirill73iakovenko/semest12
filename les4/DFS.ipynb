{
 "cells": [
  {
   "cell_type": "code",
   "execution_count": 145,
   "id": "82e68527-5028-40a7-b9f8-1bed442729a0",
   "metadata": {},
   "outputs": [],
   "source": [
    "edge_list = [[0, 1], [0, 2], [1, 2], [2, 3], [3, 1], [3, 4], [4, 5], [5, 0], [5, 2]]\n",
    "vert_num = 6\n"
   ]
  },
  {
   "cell_type": "code",
   "execution_count": 146,
   "id": "958dbae5-5674-41a3-ba0f-ca6afd238049",
   "metadata": {},
   "outputs": [
    {
     "name": "stdout",
     "output_type": "stream",
     "text": [
      "[[1, 2], [2], [3], [1, 4], [5], [0, 2]]\n"
     ]
    }
   ],
   "source": [
    "adj_list = [[] for _ in range(vert_num)]\n",
    "for u, v in edge_list:\n",
    "    adj_list[u].append(v)\n",
    "print(adj_list)"
   ]
  },
  {
   "cell_type": "code",
   "execution_count": 147,
   "id": "f017b20d-9462-47ee-9421-107adf4238e3",
   "metadata": {},
   "outputs": [
    {
     "name": "stdout",
     "output_type": "stream",
     "text": [
      "[[0, 1, 1, 0, 0, 0], [0, 0, 1, 0, 0, 0], [0, 0, 0, 1, 0, 0], [0, 1, 0, 0, 1, 0], [0, 0, 0, 0, 0, 1], [1, 0, 1, 0, 0, 0]]\n"
     ]
    }
   ],
   "source": [
    "adj_matrix = [[0 for _ in range(vert_num)] \n",
    "              for _ in range(vert_num)\n",
    "             ]\n",
    "for edge in edge_list:\n",
    "    u = edge[0]\n",
    "    v = edge[1]\n",
    "    adj_matrix[u][v] = 1\n",
    "print(adj_matrix)"
   ]
  },
  {
   "cell_type": "code",
   "execution_count": 148,
   "id": "76720c10-8d8d-47fb-94b4-0e6ca4db4382",
   "metadata": {},
   "outputs": [
    {
     "name": "stdout",
     "output_type": "stream",
     "text": [
      " Цикл: 3 -> 1 -> 2 -> 3 \n",
      " Цикл: 5 -> 0 -> 2 -> 3 -> 4 -> 5 \n",
      " Цикл: 5 -> 2 -> 3 -> 4 -> 5 \n"
     ]
    }
   ],
   "source": [
    "###dfs с полным циклом\n",
    "g = adj_list\n",
    "colors = [\"w\" for _ in range(vert_num)]\n",
    "parents = [None for _ in range(vert_num)]\n",
    "timer = 0 \n",
    "tin = [None for _ in range(vert_num)]\n",
    "tout = [None for _ in range(vert_num)]\n",
    "used = []\n",
    "def dfs(v, p=-1):\n",
    "    global used\n",
    "    global timer\n",
    "    used.append(v)\n",
    "    timer += 1\n",
    "    tin[v] = timer\n",
    "    parents[v] = p\n",
    "    colors[v] = 'g'\n",
    "    for u in g[v]:\n",
    "        if colors[u] == \"g\":\n",
    "            k = used.index(u)\n",
    "            elem = u\n",
    "            total = str(v) + ' -> '\n",
    "            total += str(elem) + ' -> '\n",
    "            while elem != v:\n",
    "                k += 1\n",
    "                elem = used[k]\n",
    "                total  += str(elem) + ' -> '\n",
    "            print(f\" Цикл: {total[:len(total)-3]}\")\n",
    "            used.pop(u)\n",
    "            continue\n",
    "        elif colors[u] == \"b\":\n",
    "            continue\n",
    "        elif colors[u] == \"w\":\n",
    "            dfs(u, v)\n",
    "    if used:\n",
    "        used.pop()      \n",
    "    colors[v] = 'b'\n",
    "    timer += 1\n",
    "    tout[v] = timer\n",
    "dfs(0)   \n",
    "            \n",
    " "
   ]
  },
  {
   "cell_type": "code",
   "execution_count": 149,
   "id": "11f57fa9-3ab7-4a92-bf65-54b1aa5f1542",
   "metadata": {},
   "outputs": [
    {
     "name": "stdout",
     "output_type": "stream",
     "text": [
      " Цикл: 3 -> 1 -> 2 -> 3 \n",
      " Цикл: 5 -> 0 -> 2 -> 3 -> 4 -> 5 \n",
      " Цикл: 5 -> 2 -> 3 -> 4 -> 5 \n",
      "[0, 1, 2, 3, 4, 5]\n"
     ]
    }
   ],
   "source": [
    "###топологическая сортировка\n",
    "g = adj_list\n",
    "colors = [\"w\" for _ in range(vert_num)]\n",
    "parents = [None for _ in range(vert_num)]\n",
    "timer = 0 \n",
    "tin = [None for _ in range(vert_num)]\n",
    "tout = [None for _ in range(vert_num)]\n",
    "def top_sort():\n",
    "    for v in range(vert_num):\n",
    "        if colors[v] == \"w\":\n",
    "            dfs(v)\n",
    "    vert_list = [i for i in range(vert_num)]\n",
    "    ans = [\n",
    "        x for y, x in sorted(zip(tout, vert_list), key=lambda pair: pair[0], reverse=True)\n",
    "    ]\n",
    "    return ans\n",
    "ts = top_sort()\n",
    "print(ts)"
   ]
  },
  {
   "cell_type": "code",
   "execution_count": 138,
   "id": "53229a1e-a3c3-4e2f-aa63-a197aa689ee9",
   "metadata": {},
   "outputs": [
    {
     "name": "stdout",
     "output_type": "stream",
     "text": [
      "[10, 5, 4, 3, 2, 1]\n"
     ]
    }
   ],
   "source": [
    "###количество путей\n",
    "sa1d = [0 for i in range(vert_num)]\n",
    "for i in ts[::-1]:\n",
    "    sa1d[i] = 1\n",
    "    for j in g[i]:\n",
    "        sa1d[i] += sa1d[j]\n",
    "print(sa1d)"
   ]
  }
 ],
 "metadata": {
  "kernelspec": {
   "display_name": "Python 3 (ipykernel)",
   "language": "python",
   "name": "python3"
  },
  "language_info": {
   "codemirror_mode": {
    "name": "ipython",
    "version": 3
   },
   "file_extension": ".py",
   "mimetype": "text/x-python",
   "name": "python",
   "nbconvert_exporter": "python",
   "pygments_lexer": "ipython3",
   "version": "3.10.12"
  }
 },
 "nbformat": 4,
 "nbformat_minor": 5
}
